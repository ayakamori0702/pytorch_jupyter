{
 "cells": [
  {
   "cell_type": "markdown",
   "id": "9bfaa12c-cab1-4be3-8099-3e4df70b297a",
   "metadata": {},
   "source": [
    "# PyTorchでMNISTを実行する\n",
    "下記情報を参考にサンプルコードを実行しました。GPU搭載マシンではGPUを使って実行できます。</br>\n",
    "https://dreamer-uma.com/pytorch-mlp-mnist/"
   ]
  },
  {
   "cell_type": "code",
   "execution_count": 1,
   "id": "ec31f914-275f-41f4-8557-da701177294b",
   "metadata": {},
   "outputs": [],
   "source": [
    "import torch\n",
    "import torch.nn as nn\n",
    "import torch.nn.functional as F\n",
    "import torch.optim as optim\n",
    "import torchvision\n",
    "import torchvision.transforms as transforms\n",
    "\n",
    "import numpy as np\n",
    "import matplotlib.pyplot as plt\n",
    "%matplotlib inline\n",
    "\n",
    "# グラフのスタイルを指定\n",
    "plt.style.use('seaborn-v0_8-whitegrid')"
   ]
  },
  {
   "cell_type": "code",
   "execution_count": 2,
   "id": "6c02b503-5f02-43dd-bfd8-ac6d8484e0a0",
   "metadata": {},
   "outputs": [
    {
     "name": "stdout",
     "output_type": "stream",
     "text": [
      "['Solarize_Light2', '_classic_test_patch', '_mpl-gallery', '_mpl-gallery-nogrid', 'bmh', 'classic', 'dark_background', 'fast', 'fivethirtyeight', 'ggplot', 'grayscale', 'seaborn-v0_8', 'seaborn-v0_8-bright', 'seaborn-v0_8-colorblind', 'seaborn-v0_8-dark', 'seaborn-v0_8-dark-palette', 'seaborn-v0_8-darkgrid', 'seaborn-v0_8-deep', 'seaborn-v0_8-muted', 'seaborn-v0_8-notebook', 'seaborn-v0_8-paper', 'seaborn-v0_8-pastel', 'seaborn-v0_8-poster', 'seaborn-v0_8-talk', 'seaborn-v0_8-ticks', 'seaborn-v0_8-white', 'seaborn-v0_8-whitegrid', 'tableau-colorblind10']\n"
     ]
    }
   ],
   "source": [
    "#この環境で使えるグラフのスタイルシートを確認\n",
    "print(plt.style.available)"
   ]
  },
  {
   "cell_type": "code",
   "execution_count": 3,
   "id": "1e7d077a-2382-44f3-86ae-e68455ee4b76",
   "metadata": {},
   "outputs": [],
   "source": [
    "#乱数シードの固定\n",
    "def fix_seed(seed=0):\n",
    "    # numpy\n",
    "    np.random.seed(seed)\n",
    "    # pytorch\n",
    "    torch.manual_seed(seed)\n",
    "    torch.cuda.manual_seed(seed)\n",
    "    torch.backends.cudnn.deterministic = True\n",
    "\n",
    "fix_seed()"
   ]
  },
  {
   "cell_type": "markdown",
   "id": "74d54413-9365-4e8d-ac50-e1f8dcf910a2",
   "metadata": {},
   "source": [
    "## PyTorchを用いてMNISTのDatasetとDataLoaderを作成\n",
    "PyTorchで学習を行う際、データをDataset, DataLoderという形で読み込みます。\n",
    "イメージ的には、各データを一つのデータベース的なものに格納するのが『Dataset』です。\n",
    "そして、その『Dataset』を『DataLoder』に渡すことで、ミニバッチ単位でデータを簡単に取り出すことができます。\n",
    "- Dataset : データを一つのデータベースにまとめる\n",
    "- DataLoader : データをミニバッチ単位で取り出す "
   ]
  },
  {
   "cell_type": "code",
   "execution_count": 4,
   "id": "46dc44ef-ad4f-40d1-a7b4-d0b262e83ac4",
   "metadata": {},
   "outputs": [
    {
     "name": "stdout",
     "output_type": "stream",
     "text": [
      "Downloading http://yann.lecun.com/exdb/mnist/train-images-idx3-ubyte.gz\n",
      "Downloading http://yann.lecun.com/exdb/mnist/train-images-idx3-ubyte.gz to ./data/MNIST/raw/train-images-idx3-ubyte.gz\n"
     ]
    },
    {
     "name": "stderr",
     "output_type": "stream",
     "text": [
      "100.0%\n"
     ]
    },
    {
     "name": "stdout",
     "output_type": "stream",
     "text": [
      "Extracting ./data/MNIST/raw/train-images-idx3-ubyte.gz to ./data/MNIST/raw\n",
      "\n",
      "Downloading http://yann.lecun.com/exdb/mnist/train-labels-idx1-ubyte.gz\n",
      "Downloading http://yann.lecun.com/exdb/mnist/train-labels-idx1-ubyte.gz to ./data/MNIST/raw/train-labels-idx1-ubyte.gz\n"
     ]
    },
    {
     "name": "stderr",
     "output_type": "stream",
     "text": [
      "100.0%\n"
     ]
    },
    {
     "name": "stdout",
     "output_type": "stream",
     "text": [
      "Extracting ./data/MNIST/raw/train-labels-idx1-ubyte.gz to ./data/MNIST/raw\n",
      "\n",
      "Downloading http://yann.lecun.com/exdb/mnist/t10k-images-idx3-ubyte.gz\n",
      "Downloading http://yann.lecun.com/exdb/mnist/t10k-images-idx3-ubyte.gz to ./data/MNIST/raw/t10k-images-idx3-ubyte.gz\n"
     ]
    },
    {
     "name": "stderr",
     "output_type": "stream",
     "text": [
      "100.0%\n"
     ]
    },
    {
     "name": "stdout",
     "output_type": "stream",
     "text": [
      "Extracting ./data/MNIST/raw/t10k-images-idx3-ubyte.gz to ./data/MNIST/raw\n",
      "\n",
      "Downloading http://yann.lecun.com/exdb/mnist/t10k-labels-idx1-ubyte.gz\n",
      "Downloading http://yann.lecun.com/exdb/mnist/t10k-labels-idx1-ubyte.gz to ./data/MNIST/raw/t10k-labels-idx1-ubyte.gz\n"
     ]
    },
    {
     "name": "stderr",
     "output_type": "stream",
     "text": [
      "100.0%\n"
     ]
    },
    {
     "name": "stdout",
     "output_type": "stream",
     "text": [
      "Extracting ./data/MNIST/raw/t10k-labels-idx1-ubyte.gz to ./data/MNIST/raw\n",
      "\n"
     ]
    }
   ],
   "source": [
    "#Dataset : 各データを一つのデータベースにまとめる\n",
    "train_dataset = torchvision.datasets.MNIST(root='./data',\n",
    "                                           train=True,\n",
    "                                           transform=transforms.ToTensor(),\n",
    "                                           download=True)\n",
    "\n",
    "test_dataset = torchvision.datasets.MNIST(root='./data',\n",
    "                                           train=False,\n",
    "                                           transform=transforms.ToTensor(),\n",
    "                                           download=True)"
   ]
  },
  {
   "cell_type": "code",
   "execution_count": 5,
   "id": "aed49efc-bf6c-4162-a765-df19efef4e47",
   "metadata": {},
   "outputs": [
    {
     "name": "stdout",
     "output_type": "stream",
     "text": [
      "fig shape : torch.Size([1, 28, 28]), label : 5\n"
     ]
    }
   ],
   "source": [
    "#train_dataset, test_datasetには、データの入力と出力が一つのデータベースにまとまって保管されています。\n",
    "#また、引数のtransform=transforms.ToTensor()でデータをTensor型に変換しています。\n",
    "#以下のようにしてデータを取り出すことができます。\n",
    "\n",
    "fig, label = train_dataset[0]\n",
    "print(f'fig shape : {fig.size()}, label : {label}')"
   ]
  },
  {
   "cell_type": "code",
   "execution_count": 6,
   "id": "66b3f796-68ca-40b9-8edb-caac0ae00d88",
   "metadata": {},
   "outputs": [
    {
     "data": {
      "image/png": "[encoded data removed]",
      "text/plain": [
       "<Figure size 640x480 with 5 Axes>"
      ]
     },
     "metadata": {},
     "output_type": "display_data"
    }
   ],
   "source": [
    "#一応、どのようなデータを使用するのか可視化しておきます（このコードは今の時点でよく分からなくてもOKです！）\n",
    "fig, axes = plt.subplots(1, 5)\n",
    "for i in range(5):\n",
    "    axes[i].imshow(train_dataset[i][0].view(-1, 28), cmap='gray')\n",
    "    axes[i].axis(\"off\")"
   ]
  },
  {
   "cell_type": "code",
   "execution_count": 7,
   "id": "ea164c74-2321-407b-97f3-7df61de1dca0",
   "metadata": {},
   "outputs": [],
   "source": [
    "#DataLoader : dataをミニバッチに適した形に変換\n",
    "#DataLoaderは、Datasetを入力としてミニバッチごとにデータを取り出すことができます。回は、ミニバッチデータサイズを256としてDataLoaderを作成します。\n",
    "batch_size = 256\n",
    "\n",
    "\n",
    "train_loader = torch.utils.data.DataLoader(dataset=train_dataset,\n",
    "                                           batch_size=batch_size,\n",
    "                                           shuffle=True)\n",
    "\n",
    "test_loader = torch.utils.data.DataLoader(dataset=test_dataset,\n",
    "                                           batch_size=batch_size,\n",
    "                                           shuffle=False)\n",
    "\n",
    "#これで、PyTorchによるデータの読み込みは終了です。"
   ]
  },
  {
   "cell_type": "markdown",
   "id": "f6c7b09c-5d61-4d74-b7fc-fe1c88a539cf",
   "metadata": {},
   "source": [
    "## PyTorchでネットワークを定義\n",
    "PyTorchには、ネットワークを定義する方法が主に二つあります。\n",
    "今回はカスタマイズ性の高い方法を用いてネットワークを定義します（上級者は、可読性を上げるために二つの方法を合わせて利用することもあります）\n",
    "GPUを使用する方のために、ネットワークをGPUに転送するプロセスも詳しく紹介します！\n",
    "- ネットワークを定義\n",
    "- ネットワークをGPUに転送する"
   ]
  },
  {
   "cell_type": "code",
   "execution_count": 8,
   "id": "bb6728f0-e25a-4368-8cbb-9c818f3967a2",
   "metadata": {},
   "outputs": [],
   "source": [
    "#ネットワークを定義:今回は、『nn.Module（ネットワークのモジュールのクラス）』を引き継ぐ方法でネットワークを定義します。\n",
    "num_classes = 10\n",
    "\n",
    "class Net(nn.Module):#num_classesで出力の数を指定しています。\n",
    "    def __init__(self):#__init__ 部分には、ネットワークで使用する層を定義します。ここでは、深層学習の基本単位である線形層（nn.Linear()）のみ使用しました。\n",
    "        super(Net, self).__init__()\n",
    "        self.fc1 = nn.Linear(28*28, 1024)\n",
    "        self.fc2 = nn.Linear(1024, 512)\n",
    "        self.fc3 = nn.Linear(512, num_classes)\n",
    "\n",
    "    def forward(self, x):#forwardメソッドに順伝搬のプロセスを記入します。\n",
    "        x = F.relu(self.fc1(x))\n",
    "        x = F.relu(self.fc2(x))\n",
    "        x = self.fc3(x)\n",
    "        return x"
   ]
  },
  {
   "cell_type": "code",
   "execution_count": 9,
   "id": "f527509a-56cc-46e4-8229-689c70541618",
   "metadata": {},
   "outputs": [],
   "source": [
    "# ネットワークをGPUに転送する\n",
    "device = 'cuda' if torch.cuda.is_available() else 'cpu'#GPUが利用できる場合はGPUを利用し、そうでない場合は、CPUを利用するように設定\n",
    "model = Net().to(device)#ネットワークをGPUに転送"
   ]
  },
  {
   "cell_type": "code",
   "execution_count": 10,
   "id": "fdd79578-980e-4532-ac24-ba1e450b68a8",
   "metadata": {},
   "outputs": [
    {
     "name": "stdout",
     "output_type": "stream",
     "text": [
      "Net(\n",
      "  (fc1): Linear(in_features=784, out_features=1024, bias=True)\n",
      "  (fc2): Linear(in_features=1024, out_features=512, bias=True)\n",
      "  (fc3): Linear(in_features=512, out_features=10, bias=True)\n",
      ")\n"
     ]
    }
   ],
   "source": [
    "#以下のように入力することでネットワーク構造を確認することができます。\n",
    "print(model)"
   ]
  },
  {
   "cell_type": "code",
   "execution_count": 11,
   "id": "c3664d84-d57e-4880-b48a-ee5e945ad099",
   "metadata": {
    "tags": []
   },
   "outputs": [
    {
     "data": {
      "text/plain": [
       "[Parameter containing:\n",
       " tensor([[-0.0003,  0.0192, -0.0294,  ...,  0.0219,  0.0037,  0.0021],\n",
       "         [-0.0198, -0.0150, -0.0104,  ..., -0.0203, -0.0060, -0.0299],\n",
       "         [-0.0201,  0.0149, -0.0333,  ..., -0.0203,  0.0012,  0.0080],\n",
       "         ...,\n",
       "         [-0.0278,  0.0100, -0.0151,  ...,  0.0356,  0.0340, -0.0310],\n",
       "         [ 0.0174,  0.0051,  0.0038,  ...,  0.0176,  0.0174, -0.0338],\n",
       "         [-0.0280, -0.0009,  0.0183,  ...,  0.0242, -0.0098,  0.0033]],\n",
       "        device='cuda:0', requires_grad=True),\n",
       " Parameter containing:\n",
       " tensor([-0.0333,  0.0170, -0.0219,  ...,  0.0060,  0.0348, -0.0311],\n",
       "        device='cuda:0', requires_grad=True),\n",
       " Parameter containing:\n",
       " tensor([[ 0.0253, -0.0153, -0.0038,  ...,  0.0303,  0.0296, -0.0242],\n",
       "         [ 0.0153,  0.0083,  0.0182,  ...,  0.0184, -0.0009,  0.0101],\n",
       "         [ 0.0035, -0.0090, -0.0304,  ..., -0.0211, -0.0054, -0.0092],\n",
       "         ...,\n",
       "         [-0.0223,  0.0174, -0.0287,  ..., -0.0040, -0.0202,  0.0009],\n",
       "         [ 0.0201,  0.0113,  0.0016,  ...,  0.0105, -0.0081,  0.0179],\n",
       "         [-0.0024, -0.0037,  0.0076,  ..., -0.0211,  0.0073,  0.0101]],\n",
       "        device='cuda:0', requires_grad=True),\n",
       " Parameter containing:\n",
       " tensor([ 2.1601e-02, -1.9295e-02,  3.0281e-02, -2.4127e-02,  1.2837e-02,\n",
       "          8.5755e-03,  2.0277e-02, -8.1740e-03, -5.8551e-03, -5.4161e-03,\n",
       "         -3.0210e-02,  1.6044e-02,  2.5394e-02,  2.3409e-02,  2.8820e-02,\n",
       "          1.3855e-03, -1.5590e-03, -2.7329e-03,  6.5974e-03, -1.5304e-02,\n",
       "         -9.4610e-03, -1.2876e-02,  4.4965e-03,  2.8276e-02,  9.4101e-03,\n",
       "          2.5504e-02,  2.5048e-02,  1.7818e-02, -5.9384e-03,  1.1627e-02,\n",
       "         -5.0066e-03, -3.3343e-03, -1.6116e-03, -2.8706e-02, -2.9395e-02,\n",
       "         -3.0988e-02,  1.3532e-02,  2.3980e-02, -2.9675e-02,  2.8859e-02,\n",
       "          2.6832e-02, -2.6570e-02,  6.1763e-03,  2.2073e-02, -1.4947e-02,\n",
       "          8.9481e-03, -1.8783e-02, -7.1366e-03, -1.2041e-02, -4.0481e-03,\n",
       "         -8.3242e-03,  9.7144e-03, -1.4422e-02,  1.2066e-02, -2.2202e-02,\n",
       "         -1.8714e-02,  4.1102e-03,  1.1276e-02,  1.8706e-03,  1.7567e-02,\n",
       "          5.8521e-03, -2.0112e-02,  1.2380e-02,  5.6457e-03,  1.5085e-02,\n",
       "         -7.2008e-03, -1.9780e-02, -2.0012e-02, -1.4233e-02, -2.1083e-02,\n",
       "          2.3806e-03,  1.0811e-02, -2.7153e-02,  1.3282e-02,  2.5486e-02,\n",
       "         -1.9907e-02,  2.6442e-02, -1.5137e-02, -1.3017e-02,  2.0826e-02,\n",
       "          4.5724e-03, -4.0355e-03,  9.8736e-04, -1.1885e-02, -2.7128e-02,\n",
       "          2.7978e-02,  2.3940e-02, -1.3768e-02, -1.8947e-02, -2.4440e-02,\n",
       "         -4.8159e-03,  7.4015e-03, -2.2132e-02,  1.0094e-02,  2.5103e-02,\n",
       "          1.2633e-03, -3.0414e-02,  2.1137e-03, -1.6123e-02,  1.2230e-02,\n",
       "         -1.9071e-02,  2.6909e-02, -1.3626e-03,  1.0750e-02, -1.6226e-02,\n",
       "         -8.8840e-03,  1.6348e-02,  1.2852e-02, -1.8042e-02, -2.2869e-02,\n",
       "          7.1070e-03, -2.0290e-02,  2.0035e-02, -2.6527e-03,  1.5924e-02,\n",
       "          1.6163e-02,  2.8615e-02,  3.0823e-02,  1.1614e-03, -4.4805e-03,\n",
       "         -2.9357e-02, -5.1686e-03, -2.2440e-02,  1.0027e-02, -5.8168e-03,\n",
       "         -2.6446e-02, -1.2412e-02,  2.9978e-02, -2.3571e-03,  8.7890e-03,\n",
       "          2.0656e-02,  1.9566e-02, -1.1263e-02,  3.0825e-03, -1.7417e-02,\n",
       "         -2.8009e-02, -1.9915e-02,  5.2077e-03, -3.1431e-03,  2.9783e-02,\n",
       "          7.1241e-03, -2.9515e-03, -1.9843e-03,  2.5692e-02,  2.5620e-02,\n",
       "         -2.5940e-03,  2.4591e-02, -2.6174e-02,  2.8941e-02,  7.2156e-03,\n",
       "          5.1079e-03, -6.9964e-03, -1.6115e-02, -4.4242e-03,  8.3591e-03,\n",
       "          1.5201e-02,  1.6943e-02,  2.1999e-02,  5.2826e-03,  8.2592e-03,\n",
       "          2.3411e-02,  1.5745e-02, -2.6701e-02,  2.0028e-02, -1.1723e-02,\n",
       "         -6.1239e-03, -1.7592e-02, -2.3061e-02,  3.0207e-02,  8.0617e-03,\n",
       "         -4.7533e-03,  1.0402e-02,  2.1131e-02, -1.3952e-02, -2.1849e-02,\n",
       "         -1.3302e-02,  1.9338e-02,  1.4658e-02,  1.9298e-02, -2.6225e-02,\n",
       "         -2.6431e-02,  3.0937e-03,  1.1701e-02, -9.0365e-03, -3.0345e-03,\n",
       "         -1.7509e-02, -1.3860e-02, -9.3502e-03, -1.9577e-02, -2.7888e-02,\n",
       "         -2.3913e-03,  5.1256e-03, -9.1844e-03,  1.4474e-02, -2.1608e-02,\n",
       "         -2.8188e-02,  3.0115e-05,  1.0098e-02, -6.1270e-03, -2.1956e-02,\n",
       "          4.1490e-03,  1.4892e-02, -1.7891e-02, -1.4586e-02,  5.3852e-03,\n",
       "          6.8991e-03,  1.7888e-02, -1.8703e-03,  4.2972e-03, -2.8785e-02,\n",
       "          1.0289e-02,  1.1546e-02,  2.0174e-02, -2.8426e-02, -2.3004e-02,\n",
       "          1.3699e-02, -3.1484e-03, -2.7992e-02, -7.6517e-03,  3.2950e-03,\n",
       "         -2.5836e-03,  1.3315e-02, -1.2114e-02, -1.6496e-02,  2.2839e-02,\n",
       "          2.7753e-02, -4.4793e-03, -5.4130e-03,  2.8513e-02,  1.8204e-03,\n",
       "          3.5086e-03, -2.0791e-02,  2.4473e-02,  3.9787e-03, -1.1009e-02,\n",
       "         -1.0758e-02,  7.5675e-03,  2.2816e-02,  9.5069e-03,  3.1788e-03,\n",
       "         -1.0727e-04,  2.8902e-03, -4.7159e-03, -1.3974e-02, -1.4620e-02,\n",
       "          1.8387e-02, -1.5401e-02,  1.1680e-02,  1.1394e-03,  3.3970e-03,\n",
       "          2.8318e-02, -3.0000e-02,  1.0826e-02, -2.3583e-02, -6.9912e-04,\n",
       "         -1.6155e-02,  1.0166e-02,  2.4064e-02, -2.1619e-02, -1.6263e-02,\n",
       "         -1.4616e-02,  7.2351e-03, -1.0235e-02,  1.8102e-02, -1.7824e-02,\n",
       "         -3.2573e-03,  2.2280e-02, -1.2013e-02,  2.5618e-03, -4.0367e-03,\n",
       "          2.6562e-03,  2.5300e-02,  2.3617e-02,  1.0252e-02, -2.7724e-03,\n",
       "         -2.3248e-02, -2.6182e-02, -2.0153e-02,  1.8767e-02,  1.6578e-02,\n",
       "         -1.3157e-02, -1.1932e-02,  2.4363e-02,  2.6201e-02, -1.5549e-02,\n",
       "         -2.7894e-02,  1.4853e-02,  1.2318e-02, -9.8914e-03, -2.9121e-02,\n",
       "          3.9770e-03,  1.9774e-02, -2.2489e-02,  1.5528e-02,  2.6603e-02,\n",
       "          2.2240e-02, -2.4219e-02,  1.0374e-02,  2.0213e-02,  2.0160e-02,\n",
       "         -9.4354e-04,  1.2999e-02, -2.6741e-02, -2.6657e-02,  3.4732e-03,\n",
       "          1.9333e-02,  2.2020e-02,  8.5218e-03,  5.9746e-03,  8.4748e-03,\n",
       "         -8.5651e-03, -7.2906e-03,  2.1800e-02,  8.3352e-03, -2.5273e-02,\n",
       "         -1.0178e-02,  2.0307e-02, -2.0330e-02, -1.6524e-02, -3.6857e-03,\n",
       "         -1.4745e-02, -2.9285e-02, -2.7887e-02, -4.1275e-03,  2.6210e-02,\n",
       "          1.4193e-02,  3.0641e-02,  4.9481e-03,  2.0760e-02,  2.2757e-03,\n",
       "         -4.5206e-03,  1.4012e-02,  2.7321e-02,  1.8567e-02,  1.8423e-02,\n",
       "         -2.4463e-03,  1.9372e-02, -2.5349e-02, -5.0704e-03,  8.9747e-03,\n",
       "         -2.2098e-02,  1.3026e-02, -6.1486e-03, -2.8170e-02,  2.2162e-03,\n",
       "          1.3049e-02, -1.9520e-02, -4.5728e-03, -4.4769e-03, -2.2460e-02,\n",
       "          1.6940e-03,  1.4581e-02, -2.8954e-02, -2.2534e-02,  2.3040e-02,\n",
       "          3.1799e-03,  2.7879e-02,  2.8777e-02, -2.9604e-02, -6.1394e-03,\n",
       "         -1.3923e-02,  2.5899e-02, -1.5171e-02, -2.3970e-02, -3.0493e-02,\n",
       "         -2.9068e-02,  1.5063e-02,  7.2297e-03, -1.0460e-02, -2.9437e-02,\n",
       "          1.8935e-02, -3.9704e-03, -8.2463e-03,  1.6480e-02, -1.6684e-03,\n",
       "         -1.1206e-02, -1.9378e-02, -2.5022e-02, -2.8724e-02,  2.0032e-02,\n",
       "         -8.8256e-03,  2.1621e-03, -3.0833e-02, -2.7974e-03, -2.2303e-02,\n",
       "          2.1497e-02,  1.5057e-02,  2.3244e-02,  2.1544e-02, -7.7164e-03,\n",
       "          1.1591e-03,  2.3656e-02,  9.4932e-03,  6.4159e-03,  8.9392e-03,\n",
       "         -3.4218e-04, -2.1187e-02, -3.4772e-03, -5.6009e-03,  1.2477e-02,\n",
       "          2.5235e-02, -4.3878e-03, -2.0680e-02, -2.4078e-02, -2.6623e-02,\n",
       "         -2.4558e-02,  1.0092e-02,  4.4675e-03, -2.1643e-02,  1.9713e-02,\n",
       "         -9.8850e-03,  1.9965e-02, -2.5040e-02,  2.9762e-02,  1.2274e-02,\n",
       "          7.3556e-03,  2.3817e-02, -6.7885e-03,  2.5656e-02,  2.7465e-02,\n",
       "         -4.4961e-03,  3.0819e-02,  7.7097e-03, -4.6473e-03, -1.6228e-02,\n",
       "          1.5321e-02, -1.1591e-02,  2.9914e-02,  9.6878e-03, -2.0666e-02,\n",
       "          2.7366e-02,  2.9427e-02, -3.0670e-02, -2.6390e-02,  2.6976e-03,\n",
       "          2.6859e-02, -3.0561e-02, -2.0712e-02, -1.5803e-02,  1.8969e-02,\n",
       "          2.8475e-02, -8.7455e-05, -1.4395e-02, -1.2942e-02, -2.3870e-02,\n",
       "         -6.6915e-03, -1.2573e-03,  2.4784e-02,  4.1048e-03, -3.0383e-03,\n",
       "          6.3501e-03, -1.9003e-02,  1.2145e-02, -1.3078e-04,  6.8097e-03,\n",
       "         -6.3312e-03,  7.7453e-04, -5.6395e-03, -2.8736e-02, -1.9901e-02,\n",
       "         -1.1736e-02, -3.7803e-03,  9.0081e-03,  1.2701e-02,  1.9857e-02,\n",
       "          1.5559e-02,  3.0632e-02,  2.4897e-02,  1.5731e-03, -3.0911e-02,\n",
       "          1.1542e-02, -2.9815e-02,  1.6197e-02, -4.1337e-03,  1.2114e-02,\n",
       "          2.2565e-03, -2.8423e-02, -2.1486e-02,  3.1247e-02, -2.6536e-02,\n",
       "         -8.9773e-04, -1.7965e-02,  1.6835e-02,  2.4922e-02,  1.0731e-02,\n",
       "         -1.6753e-02, -2.0984e-02, -9.2647e-03,  2.6029e-02, -7.6806e-03,\n",
       "         -1.2891e-02,  1.5203e-02,  1.4812e-02, -5.2004e-03,  1.7724e-02,\n",
       "         -1.5060e-02, -2.6661e-02, -2.5647e-02, -1.6006e-02, -4.0524e-03,\n",
       "         -1.6052e-02, -2.8333e-02,  6.0220e-03, -5.8644e-03,  8.7048e-03,\n",
       "         -4.1860e-03,  4.3074e-03, -1.5104e-02,  2.0882e-02, -2.0752e-02,\n",
       "          2.2923e-02,  2.5368e-02], device='cuda:0', requires_grad=True),\n",
       " Parameter containing:\n",
       " tensor([[ 0.0289, -0.0428,  0.0209,  ...,  0.0181,  0.0363, -0.0213],\n",
       "         [-0.0204,  0.0250,  0.0333,  ..., -0.0430,  0.0081,  0.0013],\n",
       "         [-0.0440,  0.0297,  0.0097,  ...,  0.0017,  0.0398,  0.0333],\n",
       "         ...,\n",
       "         [ 0.0338,  0.0099, -0.0224,  ..., -0.0414,  0.0159,  0.0141],\n",
       "         [-0.0101, -0.0019, -0.0221,  ..., -0.0406,  0.0439, -0.0204],\n",
       "         [ 0.0429,  0.0301, -0.0111,  ..., -0.0373,  0.0043,  0.0405]],\n",
       "        device='cuda:0', requires_grad=True),\n",
       " Parameter containing:\n",
       " tensor([ 0.0114, -0.0020, -0.0240, -0.0321, -0.0372, -0.0241, -0.0295,  0.0318,\n",
       "         -0.0030, -0.0234], device='cuda:0', requires_grad=True)]"
      ]
     },
     "execution_count": 11,
     "metadata": {},
     "output_type": "execute_result"
    }
   ],
   "source": [
    "#また、『net.parameters()』でパラメータの情報を取得することができます。下記を入力して確かめてみてください。\n",
    "list(model.parameters())"
   ]
  },
  {
   "cell_type": "code",
   "execution_count": 12,
   "id": "1f9e7c07-63d7-4f39-be99-ef3d8adb2196",
   "metadata": {},
   "outputs": [
    {
     "name": "stdout",
     "output_type": "stream",
     "text": [
      "torch.Size([5, 10])\n"
     ]
    }
   ],
   "source": [
    "#また、実際にデータを入力してみましょう。\n",
    "# 順伝搬の確認\n",
    "input_samples = torch.randn(5, 784, device=device)\n",
    "output_samples = model(input_samples)\n",
    "print(output_samples.size())"
   ]
  },
  {
   "cell_type": "raw",
   "id": "58a91b58-5491-4d03-8a9b-e17cf20e5508",
   "metadata": {},
   "source": [
    "各データに対して10個の出力を得ることができました。それぞれの出力は、与えられた画像に書かれた数字の予測結果を表しています（softmax関数を通していないので確率的な解釈はこの段階では不可能です）\n",
    "しかし、現段階で全く学習を行っていないので、メチャクチャな値が出力されていることに注意してください。"
   ]
  },
  {
   "cell_type": "markdown",
   "id": "b8476fe0-cd6d-44ab-aac9-4d0861d73400",
   "metadata": {},
   "source": [
    "## 損失関数と最適化手法を設定\n",
    "学習に使用する損失関数と最適化アルゴリズムを以下のように設定しましょう。</br>\n",
    "今回は、損失関数として『交差エントロピー誤差関数』を使用し、最適化アルゴリズムとしては、『確率的勾配降下法（SGD）』を使用します。\n",
    "optimizerの第一引数には、ネットワークのパラメータを入力します。"
   ]
  },
  {
   "cell_type": "code",
   "execution_count": 13,
   "id": "c2747cfb-5796-49d4-aa31-c4ee1c1c9179",
   "metadata": {},
   "outputs": [],
   "source": [
    "# 損失関数の設定\n",
    "criterion = nn.CrossEntropyLoss()\n",
    "\n",
    "# 最適化手法を設定\n",
    "optimizer = optim.SGD(model.parameters(), lr=0.01)"
   ]
  },
  {
   "cell_type": "markdown",
   "id": "599c6777-c72e-4e5a-bdf9-7730c8d158af",
   "metadata": {},
   "source": [
    "## PyTorchでモデルを学習する方法\n",
    "PyTorchでは以下の流れでネットワークを学習することができます。\n",
    "1. 1エポックの訓練を行う関数を定義\n",
    "1. 推論するための関数を定義\n",
    "1. モデルの学習\n",
    "1. 訓練誤差とテスト誤差をプロット\n"
   ]
  },
  {
   "cell_type": "code",
   "execution_count": 14,
   "id": "90f09be7-c66e-4da6-b13d-b07a9157b4f3",
   "metadata": {},
   "outputs": [
    {
     "name": "stdout",
     "output_type": "stream",
     "text": [
      "cuda\n"
     ]
    }
   ],
   "source": [
    "print(device)"
   ]
  },
  {
   "cell_type": "code",
   "execution_count": 15,
   "id": "591621c2-1549-4bef-aceb-e30f0a615573",
   "metadata": {},
   "outputs": [],
   "source": [
    "# 1エポックの訓練を行う関数を定義\n",
    "#実装の際には、なるべく小さいまとまりで関数を定義しておくと後からカスタマイズしやすいです。\n",
    "#そのため、まずは1エポックの学習を行う関数を定義していきます。\n",
    "\n",
    "def train_fn(model, train_loader, criterion, optimizer, device='cpu'):\n",
    "    \n",
    "    # 1epoch training \n",
    "    train_loss = 0.0\n",
    "    num_train = 0\n",
    "\n",
    "    # model 学習モードに設定\n",
    "    model.train()\n",
    "\n",
    "    for i, (images, labels) in enumerate(train_loader):\n",
    "        # batch数を累積\n",
    "        num_train += len(labels)\n",
    "        \n",
    "        # viewで1次元配列に変更\n",
    "        # toでgpuに転送\n",
    "        images, labels = images.view(-1, 28*28).to(device), labels.to(device)\n",
    "        # 勾配をリセット\n",
    "        optimizer.zero_grad()\n",
    "        # 推論\n",
    "        outputs = model(images)\n",
    "        # lossを計算\n",
    "        loss = criterion(outputs, labels)\n",
    "        # 誤差逆伝播\n",
    "        loss.backward()\n",
    "        # パラメータ更新\n",
    "        optimizer.step()\n",
    "        # lossを累積\n",
    "        train_loss += loss.item()\n",
    "        \n",
    "    train_loss = train_loss/num_train\n",
    "\n",
    "    return train_loss"
   ]
  },
  {
   "cell_type": "code",
   "execution_count": 16,
   "id": "1c73f536-2af7-4c49-8a90-cc76b9f867c5",
   "metadata": {},
   "outputs": [],
   "source": [
    "#推論するための関数を定義\n",
    "#次にテストデータ（または検証データ）の推論を行う関数を定義します。\n",
    "def valid_fn(model, train_loader, criterion, optimizer, device='cpu'):\n",
    "    \n",
    "    # 評価用のコード\n",
    "    valid_loss = 0.0\n",
    "    num_valid = 0\n",
    "\n",
    "    # model 評価モードに設定\n",
    "    model.eval()\n",
    "\n",
    "    # 評価の際に勾配を計算しないようにする\n",
    "    with torch.no_grad():\n",
    "        for i, (images, labels) in enumerate(test_loader):\n",
    "            num_valid += len(labels)\n",
    "            images, labels = images.view(-1, 28*28).to(device), labels.to(device)\n",
    "            outputs = model(images)\n",
    "            loss = criterion(outputs, labels)\n",
    "            valid_loss += loss.item()\n",
    "           \n",
    "        valid_loss = valid_loss/num_valid\n",
    "\n",
    "    return valid_loss"
   ]
  },
  {
   "cell_type": "code",
   "execution_count": 17,
   "id": "f15afe49-0d12-4480-993c-3dde1d49aeb2",
   "metadata": {},
   "outputs": [],
   "source": [
    "#モデルの学習\n",
    "#これまで定義した関数を使って、モデルの学習と推論を行うコードを書いていきます。\n",
    "def run(model, train_loader, test_loader, criterion, optimizer, device='cpu'):\n",
    "\n",
    "    train_loss_list = []\n",
    "    valid_loss_list = []\n",
    "\n",
    "    for epoch in range(num_epochs):\n",
    "\n",
    "        _train_loss = train_fn(model, train_loader, criterion, optimizer, device=device)\n",
    "        _valid_loss = valid_fn(model, train_loader, criterion, optimizer, device=device)\n",
    "\n",
    "        print(f'Epoch [{epoch+1}], train_Loss : {_train_loss:.5f}, val_Loss : {_valid_loss:.5f}')\n",
    "        \n",
    "        train_loss_list.append(_train_loss)\n",
    "        valid_loss_list.append(_valid_loss)\n",
    "\n",
    "    return train_loss_list, valid_loss_list"
   ]
  },
  {
   "cell_type": "code",
   "execution_count": 18,
   "id": "3e281bfb-2d14-4a5a-9d62-f3eacdcfe09a",
   "metadata": {},
   "outputs": [
    {
     "name": "stdout",
     "output_type": "stream",
     "text": [
      "Epoch [1], train_Loss : 0.00872, val_Loss : 0.00844\n",
      "Epoch [2], train_Loss : 0.00728, val_Loss : 0.00592\n",
      "Epoch [3], train_Loss : 0.00450, val_Loss : 0.00342\n",
      "Epoch [4], train_Loss : 0.00291, val_Loss : 0.00247\n",
      "Epoch [5], train_Loss : 0.00227, val_Loss : 0.00203\n",
      "Epoch [6], train_Loss : 0.00194, val_Loss : 0.00178\n",
      "Epoch [7], train_Loss : 0.00174, val_Loss : 0.00162\n",
      "Epoch [8], train_Loss : 0.00161, val_Loss : 0.00150\n",
      "Epoch [9], train_Loss : 0.00151, val_Loss : 0.00142\n",
      "Epoch [10], train_Loss : 0.00144, val_Loss : 0.00137\n",
      "Epoch [11], train_Loss : 0.00138, val_Loss : 0.00131\n",
      "Epoch [12], train_Loss : 0.00133, val_Loss : 0.00127\n",
      "Epoch [13], train_Loss : 0.00129, val_Loss : 0.00124\n",
      "Epoch [14], train_Loss : 0.00126, val_Loss : 0.00120\n",
      "Epoch [15], train_Loss : 0.00122, val_Loss : 0.00117\n",
      "Epoch [16], train_Loss : 0.00119, val_Loss : 0.00115\n",
      "Epoch [17], train_Loss : 0.00117, val_Loss : 0.00113\n",
      "Epoch [18], train_Loss : 0.00114, val_Loss : 0.00110\n",
      "Epoch [19], train_Loss : 0.00112, val_Loss : 0.00109\n",
      "Epoch [20], train_Loss : 0.00110, val_Loss : 0.00106\n"
     ]
    }
   ],
   "source": [
    "#それでは実際に実行してみましょう。\n",
    "num_epochs = 20\n",
    "train_loss_list, test_loss_list = run(model, train_loader, test_loader, criterion, optimizer, device=device)"
   ]
  },
  {
   "cell_type": "raw",
   "id": "5750bd05-9c34-4b68-b098-8c1b6352abea",
   "metadata": {},
   "source": [
    "今回は、学習がうまくいっているかを判断するために、TestデータとTrainデータの誤差関数を表示するように実装しています。\n",
    "本来は、Testデータのラベルにはアクセスできないので、クロスバリデーション等を行い、検証誤差を見るのが一般的です。"
   ]
  },
  {
   "cell_type": "code",
   "execution_count": 19,
   "id": "c994f8ee-0b93-41e0-8a7e-c31451da90b4",
   "metadata": {},
   "outputs": [],
   "source": [
    "#訓練誤差とテスト誤差をプロット\n",
    "#訓練誤差とテスト誤差をプロットし、学習が上手くいっているか確認しましょう。"
   ]
  },
  {
   "cell_type": "code",
   "execution_count": 20,
   "id": "d196a09d-cd31-4610-b4ad-9e2987913c74",
   "metadata": {},
   "outputs": [
    {
     "data": {
      "image/png": "[encoded data removed]",
      "text/plain": [
       "<Figure size 800x600 with 1 Axes>"
      ]
     },
     "metadata": {},
     "output_type": "display_data"
    }
   ],
   "source": [
    "fig, ax = plt.subplots(figsize=(8, 6))\n",
    "\n",
    "ax.plot(range(len(train_loss_list)), train_loss_list, c='b', label='train loss')\n",
    "ax.plot(range(len(test_loss_list)), test_loss_list, c='r', label='test loss')\n",
    "\n",
    "ax.set_xlabel('epoch', fontsize='20')\n",
    "ax.set_ylabel('loss', fontsize='20')\n",
    "ax.set_title('training and validation loss', fontsize='20')\n",
    "ax.grid()\n",
    "ax.legend(fontsize='20')\n",
    "\n",
    "plt.show()"
   ]
  },
  {
   "cell_type": "raw",
   "id": "0b2635e4-b4cf-4062-84e2-9d5b97c8dd8c",
   "metadata": {},
   "source": [
    "無事に、訓練誤差と検証誤差が大きく乖離することなく適切に学習されていることが視覚的にチェックできましたね。\n",
    "また、一つのサンプルを実際に取り出して、学習後のモデルが上手く数字を判別できるか確認してみます。"
   ]
  },
  {
   "cell_type": "code",
   "execution_count": 21,
   "id": "8be2c422-15ff-4b2f-b49e-e2a9d3e126c6",
   "metadata": {},
   "outputs": [
    {
     "data": {
      "image/png": "[encoded data removed]",
      "text/plain": [
       "<Figure size 640x480 with 1 Axes>"
      ]
     },
     "metadata": {},
     "output_type": "display_data"
    }
   ],
   "source": [
    "# datasetからサンプルを一つ取り出す\n",
    "image, label = test_dataset[0]\n",
    "image = image.view(-1, 28*28).to(device)\n",
    "\n",
    "# 推論\n",
    "prediction_label = torch.argmax(model(image))\n",
    "\n",
    "fig, ax = plt.subplots()\n",
    "ax.imshow(image.detach().to('cpu').numpy().reshape(28, 28), cmap='gray')\n",
    "\n",
    "ax.axis('off')\n",
    "ax.set_title(f'True Label : {label}, Prediction : {prediction_label}', fontsize=20)\n",
    "\n",
    "plt.show()"
   ]
  },
  {
   "cell_type": "raw",
   "id": "21bfcd34-d389-4701-bbcf-643ee170734c",
   "metadata": {},
   "source": [
    "見事に本物のラベルを予測することに成功しました！！"
   ]
  },
  {
   "cell_type": "code",
   "execution_count": null,
   "id": "0e4d2ec5-0874-48d3-b701-cda4fa61563f",
   "metadata": {},
   "outputs": [],
   "source": []
  }
 ],
 "metadata": {
  "kernelspec": {
   "display_name": "Python 3 (ipykernel)",
   "language": "python",
   "name": "python3"
  },
  "language_info": {
   "codemirror_mode": {
    "name": "ipython",
    "version": 3
   },
   "file_extension": ".py",
   "mimetype": "text/x-python",
   "name": "python",
   "nbconvert_exporter": "python",
   "pygments_lexer": "ipython3",
   "version": "3.8.10"
  }
 },
 "nbformat": 4,
 "nbformat_minor": 5
}
